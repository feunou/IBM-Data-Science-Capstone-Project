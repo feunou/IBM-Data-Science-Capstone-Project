{
 "cells": [
  {
   "cell_type": "markdown",
   "metadata": {},
   "source": [
    "We want to the build a segmentation and clustering of the  neighborhoods of the  city of California.\n",
    "The  objective  of the segmentation/Clustering is to  provide guidance  to investors or  privates who want to  buy a house  in this city.  Hence  our  aim  is to identify  neighborhood clusters  in the city  based on several  features of a given neighborhood. Some include\n",
    "\n",
    "-\tProximity to the  ocean\n",
    "-\tMedian income  \n",
    "-\tMedian house value\n",
    "-\tMedian age of houses\n",
    "-\tLocation (longitude, latitude)\n",
    "-\tNumber of households\n",
    "\n",
    "The  primary group that might be   interested in the clustering of houses are  mortgage companies. The  clustering will enable to quickly find a choice that  fits a client. \n",
    "A second group for which this job is of interest is  made up of businesses such as Theater/Movies, Restaurants, Malls. Cluster  will determine which type of ressources or  products will be allocate to the  neighborhood.   \n",
    "The clustering of neighborhood is also important for the  city council. Depending on the factors defining the clusters, some  neighborhoods might be rebuild or other plans developed. \n"
   ]
  }
 ],
 "metadata": {
  "kernelspec": {
   "display_name": "Python 3",
   "language": "python",
   "name": "python3"
  },
  "language_info": {
   "codemirror_mode": {
    "name": "ipython",
    "version": 3
   },
   "file_extension": ".py",
   "mimetype": "text/x-python",
   "name": "python",
   "nbconvert_exporter": "python",
   "pygments_lexer": "ipython3",
   "version": "3.7.3"
  }
 },
 "nbformat": 4,
 "nbformat_minor": 2
}
